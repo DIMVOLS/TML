{
 "cells": [
  {
   "cell_type": "code",
   "execution_count": null,
   "metadata": {},
   "outputs": [],
   "source": [
    "from sklearn import datasets\n",
    "from sklearn.neighbors import  KNeighborsClassifier\n",
    "import numpy\n",
    "import pandas\n",
    "import pylab\n",
    "import matplotlib.pyplot as plt\n",
    "from sklearn.model_selection import LeaveOneOut\n",
    "\n",
    "\n",
    "df = datasets.load_breast_cancer()\n",
    "X = df.data[:,2:]\n",
    "Y = df.target\n",
    "\n",
    "scores = numpy.zeros(148)\n",
    "loo = LeaveOneOut()\n",
    "for train, test in loo.split(X):\n",
    "    for i in range(1,149):\n",
    "        prediction = KNeighborsClassifier(n_neighbors=i).fit(X[train],Y[train]).predict(X[test])\n",
    "        scores[i-1] += 1 if prediction != Y[test] else 0\n",
    "\n",
    "\n",
    "minimum = numpy.amin(scores)\n",
    "index = numpy.where(scores == minimum)[0]+1\n",
    "\n",
    "best_score = 100-minimum/len(X)\n",
    "print(best_score)\n",
    "\n",
    "plt.plot(scores,c='red',alpha=0.7,linewidth = 5)\n",
    "txt = '{} errors for k = {}'.format(int(min(scores)),index[0])\n",
    "\n",
    "plt.scatter(index[0],min(scores),c='black',s=150)\n",
    "plt.annotate(txt,\n",
    "            xy=(min(scores+5), index[0]+10), xycoords='data',\n",
    "            xytext=(50, 50), textcoords='data',\n",
    "            size=20, va=\"center\", ha=\"center\",\n",
    "            arrowprops=dict(arrowstyle=\"simple\",\n",
    "                                   connectionstyle=\"arc3,rad=-0.2\"),\n",
    "            )\n",
    "plt.title('LOO for k', fontsize = 32)\n",
    "plt.xlabel('K', fontsize = 26)\n",
    "plt.ylabel('count of errors',fontsize = 26)"
   ]
  },
  {
   "cell_type": "code",
   "execution_count": null,
   "metadata": {},
   "outputs": [],
   "source": []
  },
  {
   "cell_type": "code",
   "execution_count": null,
   "metadata": {},
   "outputs": [],
   "source": []
  },
  {
   "cell_type": "code",
   "execution_count": null,
   "metadata": {},
   "outputs": [],
   "source": []
  },
  {
   "cell_type": "code",
   "execution_count": null,
   "metadata": {},
   "outputs": [],
   "source": []
  },
  {
   "cell_type": "code",
   "execution_count": null,
   "metadata": {},
   "outputs": [],
   "source": []
  }
 ],
 "metadata": {
  "kernelspec": {
   "display_name": "Python 2",
   "language": "python",
   "name": "python2"
  },
  "language_info": {
   "codemirror_mode": {
    "name": "ipython",
    "version": 2
   },
   "file_extension": ".py",
   "mimetype": "text/x-python",
   "name": "python",
   "nbconvert_exporter": "python",
   "pygments_lexer": "ipython2",
   "version": "2.7.15"
  }
 },
 "nbformat": 4,
 "nbformat_minor": 2
}
