{
 "cells": [
  {
   "cell_type": "code",
   "execution_count": 1,
   "metadata": {},
   "outputs": [
    {
     "name": "stderr",
     "output_type": "stream",
     "text": [
      "C:\\Users\\Deluxe\\Anaconda2\\lib\\site-packages\\ipykernel_launcher.py:46: RuntimeWarning: invalid value encountered in divide\nC:\\Users\\Deluxe\\Anaconda2\\lib\\site-packages\\ipykernel_launcher.py:47: RuntimeWarning: invalid value encountered in absolute\nC:\\Users\\Deluxe\\Anaconda2\\lib\\site-packages\\ipykernel_launcher.py:9: RuntimeWarning: invalid value encountered in double_scalars\n  if __name__ == '__main__':\nC:\\Users\\Deluxe\\Anaconda2\\lib\\site-packages\\ipykernel_launcher.py:39: RuntimeWarning: invalid value encountered in absolute\n"
     ]
    }
   ],
   "source": [
    "import numpy as np\n",
    "from scipy.spatial import distance\n",
    "import pylab as plt\n",
    "import math\n",
    "def gauss(r):\n",
    "    return (2 * math.pi) ** -0.5 * math.exp(-0.5 * r ** 2)\n",
    "\n",
    "def quartic(r):\n",
    "    return 15/16 * (1 - r ** 2) ** 2 * (abs(r) <= 1)\n",
    "\n",
    "def draw():\n",
    "    plt.xticks(fontsize=22,color='green')\n",
    "    plt.yticks(fontsize=22,color='green')\n",
    "    plt.rcParams[\"figure.figsize\"] = [12,8]\n",
    "    plt.scatter(x, y, label='data', color=\"black\",s=100)\n",
    "    plt.plot(x, y_nadaray, label='nadaray-watson', color=\"red\",linewidth=5)\n",
    "    plt.plot(x, y_lowess, label='lowess', color=\"blue\",linewidth=5)\n",
    "    plt.xlabel('X', fontsize = 26)\n",
    "    plt.ylabel('Y',fontsize = 26)\n",
    "    plt.title('Nadaray Watson vs Lowess', fontsize=30,color=\"red\")\n",
    "    plt.legend(loc=2, prop={'size': 20})\n",
    "\n",
    "\n",
    "def nadaray_watson(x, y):\n",
    "    n = len(x)\n",
    "    w = []\n",
    "    for t in range(n):\n",
    "        w.append([])\n",
    "        for i in range(n):\n",
    "            w[t].append(gauss(distance.euclidean(x[t], x[i]) / h))\n",
    "    w = np.array(w)\n",
    "    y_nadaray = (w * y[:, None]).sum(axis=0) / w.sum(axis=0)\n",
    "    return y_nadaray\n",
    "\n",
    "def lowess(x, y):\n",
    "    n = len(x)\n",
    "    gamma = np.ones(n)\n",
    "    gamma_old = np.zeros(n)\n",
    "    while np.abs(sum(gamma) - sum(gamma_old))>=eps:\n",
    "        w = []\n",
    "        for t in range(n):\n",
    "            w.append([])\n",
    "            for i in range(n):\n",
    "                w[t].append(gauss(distance.euclidean(x[t], x[i]) / h)*gamma[t])\n",
    "        w = np.array(w)\n",
    "        y_lowess = (w * y[:, None]).sum(axis=0) / w.sum(axis=0)\n",
    "        err = np.abs(y_lowess - y)\n",
    "        gamma_old = gamma[:]\n",
    "        gamma = [quartic(err[j]) for j in range(n)]\n",
    "    return y_lowess\n",
    "\n",
    "h = 0.8\n",
    "eps = 1e-5\n",
    "x = np.asarray([1,2,3,4,5,6,7,8,9,10,11,12,13,14,15])\n",
    "y = np.asarray([1,2.5,4,-4,-6,-7,-15,4,5,8,16,-4,-5,-7,1])\n",
    "y_nadaray = nadaray_watson(x, y)\n",
    "y_lowess = lowess(x, y)\n",
    "draw()"
   ]
  },
  {
   "cell_type": "code",
   "execution_count": 2,
   "metadata": {},
   "outputs": [],
   "source": []
  },
  {
   "cell_type": "code",
   "execution_count": 2,
   "metadata": {},
   "outputs": [],
   "source": []
  },
  {
   "cell_type": "code",
   "execution_count": 3,
   "metadata": {},
   "outputs": [],
   "source": []
  },
  {
   "cell_type": "code",
   "execution_count": 3,
   "metadata": {},
   "outputs": [],
   "source": []
  },
  {
   "cell_type": "code",
   "execution_count": null,
   "metadata": {},
   "outputs": [],
   "source": []
  }
 ],
 "metadata": {
  "kernelspec": {
   "display_name": "Python 3",
   "language": "python",
   "name": "python3"
  },
  "language_info": {
   "codemirror_mode": {
    "name": "ipython",
    "version": 3
   },
   "file_extension": ".py",
   "mimetype": "text/x-python",
   "name": "python",
   "nbconvert_exporter": "python",
   "pygments_lexer": "ipython3",
   "version": "3.7.3"
  }
 },
 "nbformat": 4,
 "nbformat_minor": 2
}
