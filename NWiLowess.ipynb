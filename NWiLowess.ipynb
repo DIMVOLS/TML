{
 "cells": [
  {
   "cell_type": "code",
   "execution_count": 1,
   "metadata": {},
   "outputs": [
    {
     "ename": "AttributeError",
     "evalue": "module 'pylab' has no attribute 'xticks'",
     "output_type": "error",
     "traceback": [
      "\u001b[1;31m---------------------------------------------------------------------------\u001b[0m",
      "\u001b[1;31mAttributeError\u001b[0m                            Traceback (most recent call last)",
      "\u001b[1;32m<ipython-input-1-197aa1c22849>\u001b[0m in \u001b[0;36m<module>\u001b[1;34m\u001b[0m\n\u001b[0;32m     55\u001b[0m \u001b[0my_nadaray\u001b[0m \u001b[1;33m=\u001b[0m \u001b[0mnadaray_watson\u001b[0m\u001b[1;33m(\u001b[0m\u001b[0mx\u001b[0m\u001b[1;33m,\u001b[0m \u001b[0my\u001b[0m\u001b[1;33m)\u001b[0m\u001b[1;33m\u001b[0m\u001b[1;33m\u001b[0m\u001b[0m\n\u001b[0;32m     56\u001b[0m \u001b[0my_lowess\u001b[0m \u001b[1;33m=\u001b[0m \u001b[0mlowess\u001b[0m\u001b[1;33m(\u001b[0m\u001b[0mx\u001b[0m\u001b[1;33m,\u001b[0m \u001b[0my\u001b[0m\u001b[1;33m)\u001b[0m\u001b[1;33m\u001b[0m\u001b[1;33m\u001b[0m\u001b[0m\n\u001b[1;32m---> 57\u001b[1;33m \u001b[0mdraw\u001b[0m\u001b[1;33m(\u001b[0m\u001b[1;33m)\u001b[0m\u001b[1;33m\u001b[0m\u001b[1;33m\u001b[0m\u001b[0m\n\u001b[0m",
      "\u001b[1;32m<ipython-input-1-197aa1c22849>\u001b[0m in \u001b[0;36mdraw\u001b[1;34m()\u001b[0m\n\u001b[0;32m     11\u001b[0m \u001b[1;33m\u001b[0m\u001b[0m\n\u001b[0;32m     12\u001b[0m \u001b[1;32mdef\u001b[0m \u001b[0mdraw\u001b[0m\u001b[1;33m(\u001b[0m\u001b[1;33m)\u001b[0m\u001b[1;33m:\u001b[0m\u001b[1;33m\u001b[0m\u001b[1;33m\u001b[0m\u001b[0m\n\u001b[1;32m---> 13\u001b[1;33m     \u001b[0mplt\u001b[0m\u001b[1;33m.\u001b[0m\u001b[0mxticks\u001b[0m\u001b[1;33m(\u001b[0m\u001b[0mfontsize\u001b[0m\u001b[1;33m=\u001b[0m\u001b[1;36m22\u001b[0m\u001b[1;33m,\u001b[0m\u001b[0mcolor\u001b[0m\u001b[1;33m=\u001b[0m\u001b[1;34m'green'\u001b[0m\u001b[1;33m)\u001b[0m\u001b[1;33m\u001b[0m\u001b[1;33m\u001b[0m\u001b[0m\n\u001b[0m\u001b[0;32m     14\u001b[0m     \u001b[0mplt\u001b[0m\u001b[1;33m.\u001b[0m\u001b[0myticks\u001b[0m\u001b[1;33m(\u001b[0m\u001b[0mfontsize\u001b[0m\u001b[1;33m=\u001b[0m\u001b[1;36m22\u001b[0m\u001b[1;33m,\u001b[0m\u001b[0mcolor\u001b[0m\u001b[1;33m=\u001b[0m\u001b[1;34m'green'\u001b[0m\u001b[1;33m)\u001b[0m\u001b[1;33m\u001b[0m\u001b[1;33m\u001b[0m\u001b[0m\n\u001b[0;32m     15\u001b[0m     \u001b[0mplt\u001b[0m\u001b[1;33m.\u001b[0m\u001b[0mrcParams\u001b[0m\u001b[1;33m[\u001b[0m\u001b[1;34m\"figure.figsize\"\u001b[0m\u001b[1;33m]\u001b[0m \u001b[1;33m=\u001b[0m \u001b[1;33m[\u001b[0m\u001b[1;36m20\u001b[0m\u001b[1;33m,\u001b[0m\u001b[1;36m10\u001b[0m\u001b[1;33m]\u001b[0m\u001b[1;33m\u001b[0m\u001b[1;33m\u001b[0m\u001b[0m\n",
      "\u001b[1;31mAttributeError\u001b[0m: module 'pylab' has no attribute 'xticks'"
     ]
    }
   ],
   "source": [
    "import numpy as np\n",
    "from scipy.spatial import distance\n",
    "import pylab as plt\n",
    "import math\n",
    "\n",
    "def gauss(r):\n",
    "    return (2 * math.pi) ** -0.5 * math.exp(-0.5 * r ** 2)\n",
    "\n",
    "def quartic(r):\n",
    "    return 15/16 * (1 - r ** 2) ** 2 * (abs(r) <= 1)\n",
    "\n",
    "def draw():\n",
    "    plt.xticks(fontsize=22,color='green')\n",
    "    plt.yticks(fontsize=22,color='green')\n",
    "    plt.rcParams[\"figure.figsize\"] = [20,10]\n",
    "    plt.scatter(x, y, label='data', color=\"black\",s=100)\n",
    "    plt.plot(x, y_nadaray, label='nadaray-watson', color=\"orange\",linewidth=5)\n",
    "    plt.plot(x, y_lowess, label='lowess', color=\"blue\",linewidth=5)\n",
    "    plt.xlabel('X', fontsize = 26)\n",
    "    plt.ylabel('Y',fontsize = 26)\n",
    "    plt.title('Nadaray Watson vs Lowess', fontsize=30,color=\"orange\")\n",
    "    plt.legend(loc=2, prop={'size': 20})\n",
    "    \n",
    "def nadaray_watson(x, y):\n",
    "    n = len(x)\n",
    "    w = []\n",
    "    for t in range(n):\n",
    "        w.append([])\n",
    "        for i in range(n):\n",
    "            w[t].append(gauss(distance.euclidean(x[t], x[i]) / h))\n",
    "    w = np.array(w)\n",
    "    y_nadaray = (w * y[:, None]).sum(axis=0) / w.sum(axis=0)\n",
    "    return y_nadaray\n",
    "def lowess(x, y):\n",
    "    n = len(x)\n",
    "    gamma = np.ones(n)\n",
    "    gamma_old = np.zeros(n)\n",
    "    while np.abs(sum(gamma) - sum(gamma_old))>=eps:\n",
    "        w = []\n",
    "        for t in range(n):\n",
    "            w.append([])\n",
    "            for i in range(n):\n",
    "                w[t].append(gauss(distance.euclidean(x[t], x[i]) / h)*gamma[t])\n",
    "        w = np.array(w)\n",
    "        y_lowess = (w * y[:, None]).sum(axis=0) / w.sum(axis=0)\n",
    "        err = np.abs(y_lowess - y)\n",
    "        gamma_old = gamma[:]\n",
    "        gamma = [quartic(err[j]) for j in range(n)]\n",
    "    return y_lowess\n",
    "h = 0.8\n",
    "eps = 1e-5\n",
    "x = np.asarray([1,2,3,4,5,5,6,7,8,9,10,11,12,13,14,15,16,17,18,19,22,26,28,29,35,37])\n",
    "y = np.asarray([1.5,2,1.5,1,1.5,2,2.4,2.8,3,3,3,2.8,3.3,3.5,3.7,3.9,4,4,4,4.5,4.7,4.4,4.5,\n",
    "                4.7,4.8,5])\n",
    "y_nadaray = nadaray_watson(x, y)\n",
    "y_lowess = lowess(x, y)\n",
    "draw()"
   ]
  },
  {
   "cell_type": "code",
   "execution_count": null,
   "metadata": {},
   "outputs": [],
   "source": []
  }
 ],
 "metadata": {
  "kernelspec": {
   "display_name": "Python 3",
   "language": "python",
   "name": "python3"
  },
  "language_info": {
   "codemirror_mode": {
    "name": "ipython",
    "version": 3
   },
   "file_extension": ".py",
   "mimetype": "text/x-python",
   "name": "python",
   "nbconvert_exporter": "python",
   "pygments_lexer": "ipython3",
   "version": "3.7.2"
  }
 },
 "nbformat": 4,
 "nbformat_minor": 2
}
